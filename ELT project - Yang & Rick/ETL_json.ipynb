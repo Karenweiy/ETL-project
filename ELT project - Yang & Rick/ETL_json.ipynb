{
 "cells": [
  {
   "cell_type": "code",
   "execution_count": 13,
   "metadata": {},
   "outputs": [],
   "source": [
    "# Dependencies\n",
    "import json\n",
    "import os\n",
    "import requests\n",
    "import pandas as pd"
   ]
  },
  {
   "cell_type": "code",
   "execution_count": 14,
   "metadata": {},
   "outputs": [],
   "source": [
    "url =\"https://financialmodelingprep.com/api/stock/list/all?datatype=json\""
   ]
  },
  {
   "cell_type": "code",
   "execution_count": 15,
   "metadata": {},
   "outputs": [],
   "source": [
    "stock_response = requests.get(url)"
   ]
  },
  {
   "cell_type": "code",
   "execution_count": 16,
   "metadata": {},
   "outputs": [
    {
     "data": {
      "text/plain": [
       "[{'Ticker': 'SPY',\n",
       "  'Price': 301.73,\n",
       "  'companyName': 'SPDR S&P 500',\n",
       "  'image': 'https://financialmodelingprep.com/images-New-jpg/.jpg'},\n",
       " {'Ticker': 'CMCSA',\n",
       "  'Price': 45.66,\n",
       "  'companyName': 'Comcast Corporation Class A Common Stock',\n",
       "  'image': 'https://financialmodelingprep.com/images-New-jpg/.jpg'},\n",
       " {'Ticker': 'KMI',\n",
       "  'Price': 20.44,\n",
       "  'companyName': 'Kinder Morgan Inc.',\n",
       "  'image': 'https://financialmodelingprep.com/images-New-jpg/.jpg'},\n",
       " {'Ticker': 'INTC',\n",
       "  'Price': 56.54,\n",
       "  'companyName': 'Intel Corporation',\n",
       "  'image': 'https://financialmodelingprep.com/images-New-jpg/.jpg'},\n",
       " {'Ticker': 'MU',\n",
       "  'Price': 48.05,\n",
       "  'companyName': 'Micron Technology Inc.',\n",
       "  'image': 'https://financialmodelingprep.com/images-New-jpg/.jpg'}]"
      ]
     },
     "execution_count": 16,
     "metadata": {},
     "output_type": "execute_result"
    }
   ],
   "source": [
    "# Save post's JSON\n",
    "stock_json = stock_response.json()\n",
    "stock_json[:5]"
   ]
  },
  {
   "cell_type": "code",
   "execution_count": 17,
   "metadata": {},
   "outputs": [
    {
     "data": {
      "text/html": [
       "<div>\n",
       "<style scoped>\n",
       "    .dataframe tbody tr th:only-of-type {\n",
       "        vertical-align: middle;\n",
       "    }\n",
       "\n",
       "    .dataframe tbody tr th {\n",
       "        vertical-align: top;\n",
       "    }\n",
       "\n",
       "    .dataframe thead th {\n",
       "        text-align: right;\n",
       "    }\n",
       "</style>\n",
       "<table border=\"1\" class=\"dataframe\">\n",
       "  <thead>\n",
       "    <tr style=\"text-align: right;\">\n",
       "      <th></th>\n",
       "      <th>Last Price</th>\n",
       "      <th>Ticker</th>\n",
       "      <th>companyName</th>\n",
       "    </tr>\n",
       "  </thead>\n",
       "  <tbody>\n",
       "    <tr>\n",
       "      <th>0</th>\n",
       "      <td>301.73</td>\n",
       "      <td>SPY</td>\n",
       "      <td>SPDR S&amp;P 500</td>\n",
       "    </tr>\n",
       "    <tr>\n",
       "      <th>1</th>\n",
       "      <td>45.66</td>\n",
       "      <td>CMCSA</td>\n",
       "      <td>Comcast Corporation Class A Common Stock</td>\n",
       "    </tr>\n",
       "    <tr>\n",
       "      <th>2</th>\n",
       "      <td>20.44</td>\n",
       "      <td>KMI</td>\n",
       "      <td>Kinder Morgan Inc.</td>\n",
       "    </tr>\n",
       "    <tr>\n",
       "      <th>3</th>\n",
       "      <td>56.54</td>\n",
       "      <td>INTC</td>\n",
       "      <td>Intel Corporation</td>\n",
       "    </tr>\n",
       "    <tr>\n",
       "      <th>4</th>\n",
       "      <td>48.05</td>\n",
       "      <td>MU</td>\n",
       "      <td>Micron Technology Inc.</td>\n",
       "    </tr>\n",
       "  </tbody>\n",
       "</table>\n",
       "</div>"
      ],
      "text/plain": [
       "   Last Price Ticker                               companyName\n",
       "0      301.73    SPY                              SPDR S&P 500\n",
       "1       45.66  CMCSA  Comcast Corporation Class A Common Stock\n",
       "2       20.44    KMI                        Kinder Morgan Inc.\n",
       "3       56.54   INTC                         Intel Corporation\n",
       "4       48.05     MU                    Micron Technology Inc."
      ]
     },
     "execution_count": 17,
     "metadata": {},
     "output_type": "execute_result"
    }
   ],
   "source": [
    "data = pd.DataFrame(stock_json)\n",
    "stock_data=data.drop([\"image\"],axis=1).rename({'Price': 'Last Price'}, axis=1)\n",
    "stock_data.head()"
   ]
  },
  {
   "cell_type": "code",
   "execution_count": 18,
   "metadata": {},
   "outputs": [],
   "source": [
    "stock_out_csv = os.path.join('data', 'Json_data_after_cleaning.csv')\n",
    "stock_data.to_csv(stock_out_csv)"
   ]
  },
  {
   "cell_type": "code",
   "execution_count": null,
   "metadata": {},
   "outputs": [],
   "source": []
  }
 ],
 "metadata": {
  "kernelspec": {
   "display_name": "Python 3",
   "language": "python",
   "name": "python3"
  },
  "language_info": {
   "codemirror_mode": {
    "name": "ipython",
    "version": 3
   },
   "file_extension": ".py",
   "mimetype": "text/x-python",
   "name": "python",
   "nbconvert_exporter": "python",
   "pygments_lexer": "ipython3",
   "version": "3.6.8"
  }
 },
 "nbformat": 4,
 "nbformat_minor": 2
}
