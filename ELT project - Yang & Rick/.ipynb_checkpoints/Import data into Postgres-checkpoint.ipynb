{
 "cells": [
  {
   "cell_type": "code",
   "execution_count": 1,
   "metadata": {},
   "outputs": [],
   "source": [
    "# Dependencies\n",
    "import pandas as pd\n",
    "import numpy as np\n",
    "import psycopg2\n",
    "\n",
    "import sqlalchemy\n",
    "from sqlalchemy.ext.automap import automap_base\n",
    "from sqlalchemy.orm import Session\n",
    "from sqlalchemy import create_engine, func, inspect"
   ]
  },
  {
   "cell_type": "code",
   "execution_count": 2,
   "metadata": {},
   "outputs": [
    {
     "data": {
      "text/html": [
       "<div>\n",
       "<style scoped>\n",
       "    .dataframe tbody tr th:only-of-type {\n",
       "        vertical-align: middle;\n",
       "    }\n",
       "\n",
       "    .dataframe tbody tr th {\n",
       "        vertical-align: top;\n",
       "    }\n",
       "\n",
       "    .dataframe thead th {\n",
       "        text-align: right;\n",
       "    }\n",
       "</style>\n",
       "<table border=\"1\" class=\"dataframe\">\n",
       "  <thead>\n",
       "    <tr style=\"text-align: right;\">\n",
       "      <th></th>\n",
       "      <th>Symbol</th>\n",
       "      <th>Name</th>\n",
       "      <th>LastSale</th>\n",
       "      <th>Start of Year Sale</th>\n",
       "      <th>YTD Change Percent</th>\n",
       "      <th>Sector</th>\n",
       "    </tr>\n",
       "  </thead>\n",
       "  <tbody>\n",
       "    <tr>\n",
       "      <th>0</th>\n",
       "      <td>A</td>\n",
       "      <td>Agilent Technologies, Inc.</td>\n",
       "      <td>65.86</td>\n",
       "      <td>67.3224</td>\n",
       "      <td>-2.220468</td>\n",
       "      <td>Capital Goods</td>\n",
       "    </tr>\n",
       "    <tr>\n",
       "      <th>1</th>\n",
       "      <td>AA</td>\n",
       "      <td>Alcoa Corporation</td>\n",
       "      <td>20.15</td>\n",
       "      <td>26.5800</td>\n",
       "      <td>-31.910670</td>\n",
       "      <td>Basic Industries</td>\n",
       "    </tr>\n",
       "    <tr>\n",
       "      <th>2</th>\n",
       "      <td>AAC</td>\n",
       "      <td>AAC Holdings, Inc.</td>\n",
       "      <td>0.75</td>\n",
       "      <td>1.4000</td>\n",
       "      <td>-86.666667</td>\n",
       "      <td>Health Care</td>\n",
       "    </tr>\n",
       "    <tr>\n",
       "      <th>3</th>\n",
       "      <td>AAN</td>\n",
       "      <td>Aaron&amp;#39;s,  Inc.</td>\n",
       "      <td>61.56</td>\n",
       "      <td>42.0215</td>\n",
       "      <td>31.738954</td>\n",
       "      <td>Technology</td>\n",
       "    </tr>\n",
       "    <tr>\n",
       "      <th>4</th>\n",
       "      <td>AAP</td>\n",
       "      <td>Advance Auto Parts Inc</td>\n",
       "      <td>143.16</td>\n",
       "      <td>157.4024</td>\n",
       "      <td>-9.948589</td>\n",
       "      <td>Consumer Services</td>\n",
       "    </tr>\n",
       "  </tbody>\n",
       "</table>\n",
       "</div>"
      ],
      "text/plain": [
       "  Symbol                        Name  LastSale  Start of Year Sale  \\\n",
       "0      A  Agilent Technologies, Inc.     65.86             67.3224   \n",
       "1     AA           Alcoa Corporation     20.15             26.5800   \n",
       "2    AAC          AAC Holdings, Inc.      0.75              1.4000   \n",
       "3    AAN          Aaron&#39;s,  Inc.     61.56             42.0215   \n",
       "4    AAP      Advance Auto Parts Inc    143.16            157.4024   \n",
       "\n",
       "   YTD Change Percent             Sector  \n",
       "0           -2.220468      Capital Goods  \n",
       "1          -31.910670   Basic Industries  \n",
       "2          -86.666667        Health Care  \n",
       "3           31.738954         Technology  \n",
       "4           -9.948589  Consumer Services  "
      ]
     },
     "execution_count": 2,
     "metadata": {},
     "output_type": "execute_result"
    }
   ],
   "source": [
    "file = 'NYSE_Sector_Performance.csv'\n",
    "df = pd.read_csv(file, encoding=\"ISO-8859-1\")\n",
    "df.head()"
   ]
  },
  {
   "cell_type": "code",
   "execution_count": 14,
   "metadata": {},
   "outputs": [],
   "source": [
    "url = 'postgresql://{user}:{passwd}@{host}:{port}/{db}'.format(\n",
    "        user='postgres', passwd='postgre', host='localhost', port='5432', db='ETL_db')\n",
    "engine = create_engine(url, pool_size = 50)\n",
    "connection = engine.connect()"
   ]
  },
  {
   "cell_type": "code",
   "execution_count": 15,
   "metadata": {},
   "outputs": [],
   "source": [
    "df.to_sql(\"Stock_Price\", connection)"
   ]
  }
 ],
 "metadata": {
  "kernelspec": {
   "display_name": "Python 3",
   "language": "python",
   "name": "python3"
  },
  "language_info": {
   "codemirror_mode": {
    "name": "ipython",
    "version": 3
   },
   "file_extension": ".py",
   "mimetype": "text/x-python",
   "name": "python",
   "nbconvert_exporter": "python",
   "pygments_lexer": "ipython3",
   "version": "3.6.8"
  }
 },
 "nbformat": 4,
 "nbformat_minor": 2
}
